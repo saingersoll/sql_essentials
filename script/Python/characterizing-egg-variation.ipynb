{
 "cells": [
  {
   "cell_type": "markdown",
   "metadata": {},
   "source": [
    "Author: Sofia Ingersoll\n",
    "\n",
    "\n",
    "Title: WK6 SQL Q1\n",
    "\n",
    "\n",
    "Date: 2024/05/14\n"
   ]
  },
  {
   "cell_type": "markdown",
   "metadata": {},
   "source": [
    "\n",
    "#### Step 1\n",
    "\n",
    "Create a query that will return the distinct species for which there is egg data (not all species and not all nests have egg data), so that you can then loop over those species. Your query should return two columns, species code and scientific name. Please order the results in alphabetic order of scientific name.\n"
   ]
  },
  {
   "cell_type": "code",
   "execution_count": 7,
   "metadata": {},
   "outputs": [],
   "source": [
    "import pandas as pd\n",
    "import duckdb"
   ]
  },
  {
   "cell_type": "code",
   "execution_count": 8,
   "metadata": {},
   "outputs": [],
   "source": [
    "# Connect to the DuckDB database\n",
    "conn = duckdb.connect(database='database.db')  # Replace 'your_database.db' with your actual database file\n",
    "\n",
    "cur = conn.cursor()"
   ]
  },
  {
   "cell_type": "code",
   "execution_count": 18,
   "metadata": {},
   "outputs": [
    {
     "data": {
      "text/plain": [
       "[('Book_page', 'VARCHAR', 'YES', None, None, None),\n",
       " ('Year', 'INTEGER', 'NO', None, None, None),\n",
       " ('Site', 'VARCHAR', 'NO', None, None, None),\n",
       " ('Nest_ID', 'VARCHAR', 'NO', 'PRI', None, None),\n",
       " ('Species', 'VARCHAR', 'NO', None, None, None),\n",
       " ('Observer', 'VARCHAR', 'YES', None, None, None),\n",
       " ('Date_found', 'DATE', 'NO', None, None, None),\n",
       " ('how_found', 'VARCHAR', 'YES', None, None, None),\n",
       " ('Clutch_max', 'INTEGER', 'YES', None, None, None),\n",
       " ('floatAge', 'FLOAT', 'YES', None, None, None),\n",
       " ('ageMethod', 'VARCHAR', 'YES', None, None, None)]"
      ]
     },
     "execution_count": 18,
     "metadata": {},
     "output_type": "execute_result"
    }
   ],
   "source": [
    "# I can never remember the column names of the tables\n",
    "# let's take a peek\n",
    "cur.execute(\"DESCRIBE Bird_nests\")\n",
    "cur.fetchall()"
   ]
  },
  {
   "cell_type": "code",
   "execution_count": 16,
   "metadata": {},
   "outputs": [
    {
     "data": {
      "text/plain": [
       "[('Book_page', 'VARCHAR', 'YES', None, None, None),\n",
       " ('Year', 'INTEGER', 'NO', None, None, None),\n",
       " ('Site', 'VARCHAR', 'NO', None, None, None),\n",
       " ('Nest_ID', 'VARCHAR', 'NO', 'PRI', None, None),\n",
       " ('Egg_num', 'INTEGER', 'NO', 'PRI', None, None),\n",
       " ('Length', 'FLOAT', 'NO', None, None, None),\n",
       " ('Width', 'FLOAT', 'NO', None, None, None)]"
      ]
     },
     "execution_count": 16,
     "metadata": {},
     "output_type": "execute_result"
    }
   ],
   "source": [
    "# let's take a peek at Bird eggs table\n",
    "cur.execute(\"DESCRIBE Bird_eggs\")\n",
    "cur.fetchall()"
   ]
  },
  {
   "cell_type": "code",
   "execution_count": 17,
   "metadata": {},
   "outputs": [
    {
     "data": {
      "text/plain": [
       "[('Code', 'VARCHAR', 'NO', 'PRI', None, None),\n",
       " ('Common_name', 'VARCHAR', 'NO', 'UNI', None, None),\n",
       " ('Scientific_name', 'VARCHAR', 'YES', None, None, None),\n",
       " ('Relevance', 'VARCHAR', 'YES', None, None, None)]"
      ]
     },
     "execution_count": 17,
     "metadata": {},
     "output_type": "execute_result"
    }
   ],
   "source": [
    "cur.execute(\"DESCRIBE Species\")\n",
    "cur.fetchall()"
   ]
  },
  {
   "cell_type": "code",
   "execution_count": 26,
   "metadata": {},
   "outputs": [
    {
     "data": {
      "text/plain": [
       "[('rutu', 'Arenaria interpres'),\n",
       " ('dunl', 'Calidris alpina'),\n",
       " ('wrsa', 'Calidris fuscicollis'),\n",
       " ('sepl', 'Charadrius semipalmatus'),\n",
       " ('reph', 'Phalaropus fulicarius'),\n",
       " ('amgp', 'Pluvialis dominica'),\n",
       " ('bbpl', 'Pluvialis squatarola')]"
      ]
     },
     "execution_count": 26,
     "metadata": {},
     "output_type": "execute_result"
    }
   ],
   "source": [
    "species_query = \"\"\"\n",
    "SELECT DISTINCT S.Code, S.Scientific_name\n",
    "FROM Species AS S\n",
    "JOIN Bird_nests AS BN ON S.Code = BN.Species\n",
    "JOIN Bird_eggs AS BE ON BN.Nest_ID = BE.Nest_ID\n",
    "WHERE BE.Length IS NOT NULL AND BE.Width IS NOT NULL\n",
    "ORDER BY S.Scientific_name;\n",
    "\"\"\"\n",
    "\n",
    "# Read data into Pandas DataFrame\n",
    "cur.execute(species_query)\n",
    "cur.fetchall()\n"
   ]
  },
  {
   "cell_type": "markdown",
   "metadata": {},
   "source": [
    "#### Step 2\n",
    "\n",
    "After you’ve connected to the database and created a cursor c, iterate over the species like so:\n",
    "```{SQL}\n",
    "species_query = \"\"\"SELECT Code, Scientific_name FROM...\"\"\"\n",
    "for row in c.execute(species_query).fetchall():  # DuckDB lame-o workaround\n",
    "    species_code = row[0]\n",
    "    scientific_name = row[1]\n",
    "    # query egg data for that species (step 3)\n",
    "    # compute statistics and print results (step 4)\n",
    "\n",
    "\n",
    "```\n"
   ]
  },
  {
   "cell_type": "code",
   "execution_count": 29,
   "metadata": {},
   "outputs": [
    {
     "name": "stdout",
     "output_type": "stream",
     "text": [
      "Species Code: rutu, Scientific Name: Arenaria interpres\n",
      "Species Code: dunl, Scientific Name: Calidris alpina\n",
      "Species Code: wrsa, Scientific Name: Calidris fuscicollis\n",
      "Species Code: sepl, Scientific Name: Charadrius semipalmatus\n",
      "Species Code: reph, Scientific Name: Phalaropus fulicarius\n",
      "Species Code: amgp, Scientific Name: Pluvialis dominica\n",
      "Species Code: bbpl, Scientific Name: Pluvialis squatarola\n"
     ]
    }
   ],
   "source": [
    "species_query = \"\"\"\n",
    "SELECT DISTINCT S.Code, S.Scientific_name\n",
    "FROM Species AS S\n",
    "JOIN Bird_nests AS BN ON S.Code = BN.Species\n",
    "JOIN Bird_eggs AS BE ON BN.Nest_ID = BE.Nest_ID\n",
    "WHERE BE.Length IS NOT NULL AND BE.Width IS NOT NULL\n",
    "ORDER BY S.Scientific_name;\n",
    "\"\"\"\n",
    "for row in conn.execute(species_query).fetchall():  # DuckDB lame-o workaround\n",
    "    species_code = row[0]\n",
    "    scientific_name = row[1]\n",
    "    # Let's add some specificity to our iteration!\n",
    "    print(f\"Species Code: {species_code}, Scientific Name: {scientific_name}\")"
   ]
  },
  {
   "cell_type": "markdown",
   "metadata": {},
   "source": [
    "#### Step 3\n",
    "\n",
    "You will need to construct a query that gathers egg data for a given species, one species at a time; the species code will be a parameter to that query. You can compute the formula\n",
    "\n",
    "in SQL or in Pandas. For simplicity, SQL is suggested:\n",
    "```\n",
    "egg_query = \"\"\"SELECT Width*Width*Length AS Volume FROM...\"\"\"\n",
    "```\n",
    "\n",
    "Within the loop, you will want to execute the query on the current species in the loop iteration. You may use the Pandas function pd.read_sql to do so and also directly load the results into a dataframe:\n",
    "```\n",
    "df = pd.read_sql(egg_query, conn, ...)\n",
    "```\n",
    "\n",
    "Do a help(pd.read_sql) to figure out how to pass parameters to a query.\n",
    "\n",
    "You may get a bunch of warnings from Pandas about how it “only supports SQLAlchemy…”. Just ignore them. (Sorry about that.)"
   ]
  },
  {
   "cell_type": "code",
   "execution_count": 83,
   "metadata": {},
   "outputs": [],
   "source": [
    "# establishing df column names in first line\n",
    "egg_query = \"\"\"\n",
    "SELECT S.Code AS Species_Code, S.Scientific_name AS Scientific_Name,\n",
    "       AVG(Width * Width * Length) AS Volume\n",
    "FROM Bird_eggs AS BE\n",
    "JOIN Bird_nests AS BN ON BE.Nest_ID = BN.Nest_ID\n",
    "JOIN Species AS S ON BN.Species = S.Code\n",
    "WHERE BE.Length IS NOT NULL AND BE.Width IS NOT NULL\n",
    "GROUP BY Species_Code, Scientific_Name\n",
    "ORDER BY S.Scientific_name\n",
    "\"\"\"\n",
    "species_query = \"\"\"\n",
    "SELECT DISTINCT S.Code, S.Scientific_name\n",
    "FROM Species AS S\n",
    "JOIN Bird_nests AS BN ON S.Code = BN.Species\n",
    "JOIN Bird_eggs AS BE ON BN.Nest_ID = BE.Nest_ID\n",
    "WHERE BE.Length IS NOT NULL AND BE.Width IS NOT NULL\n",
    "GROUP BY S.Code, S.Scientific_name, Width, Length\n",
    "ORDER BY S.Scientific_name\n",
    "\"\"\"\n",
    "for row in conn.execute(species_query).fetchall():  # DuckDB lame-o workaround\n",
    "    species_code = row[0]\n",
    "    scientific_name = row[1]\n",
    "    # Execute the egg query for the current species\n",
    "    egg_data = conn.execute(egg_query).fetchdf()\n",
    "    \n",
    "    # Load results into a Pandas DataFrame\n",
    "    egg_df = pd.DataFrame(egg_data)"
   ]
  },
  {
   "cell_type": "code",
   "execution_count": 84,
   "metadata": {},
   "outputs": [
    {
     "data": {
      "text/html": [
       "<div>\n",
       "<style scoped>\n",
       "    .dataframe tbody tr th:only-of-type {\n",
       "        vertical-align: middle;\n",
       "    }\n",
       "\n",
       "    .dataframe tbody tr th {\n",
       "        vertical-align: top;\n",
       "    }\n",
       "\n",
       "    .dataframe thead th {\n",
       "        text-align: right;\n",
       "    }\n",
       "</style>\n",
       "<table border=\"1\" class=\"dataframe\">\n",
       "  <thead>\n",
       "    <tr style=\"text-align: right;\">\n",
       "      <th></th>\n",
       "      <th>Species_Code</th>\n",
       "      <th>Scientific_Name</th>\n",
       "      <th>Volume</th>\n",
       "    </tr>\n",
       "  </thead>\n",
       "  <tbody>\n",
       "    <tr>\n",
       "      <th>0</th>\n",
       "      <td>rutu</td>\n",
       "      <td>Arenaria interpres</td>\n",
       "      <td>34557.250255</td>\n",
       "    </tr>\n",
       "    <tr>\n",
       "      <th>1</th>\n",
       "      <td>dunl</td>\n",
       "      <td>Calidris alpina</td>\n",
       "      <td>22492.769886</td>\n",
       "    </tr>\n",
       "    <tr>\n",
       "      <th>2</th>\n",
       "      <td>wrsa</td>\n",
       "      <td>Calidris fuscicollis</td>\n",
       "      <td>19310.249314</td>\n",
       "    </tr>\n",
       "    <tr>\n",
       "      <th>3</th>\n",
       "      <td>sepl</td>\n",
       "      <td>Charadrius semipalmatus</td>\n",
       "      <td>18912.809756</td>\n",
       "    </tr>\n",
       "    <tr>\n",
       "      <th>4</th>\n",
       "      <td>reph</td>\n",
       "      <td>Phalaropus fulicarius</td>\n",
       "      <td>16127.301270</td>\n",
       "    </tr>\n",
       "    <tr>\n",
       "      <th>5</th>\n",
       "      <td>amgp</td>\n",
       "      <td>Pluvialis dominica</td>\n",
       "      <td>54515.986328</td>\n",
       "    </tr>\n",
       "    <tr>\n",
       "      <th>6</th>\n",
       "      <td>bbpl</td>\n",
       "      <td>Pluvialis squatarola</td>\n",
       "      <td>64888.017361</td>\n",
       "    </tr>\n",
       "  </tbody>\n",
       "</table>\n",
       "</div>"
      ],
      "text/plain": [
       "  Species_Code          Scientific_Name        Volume\n",
       "0         rutu       Arenaria interpres  34557.250255\n",
       "1         dunl          Calidris alpina  22492.769886\n",
       "2         wrsa     Calidris fuscicollis  19310.249314\n",
       "3         sepl  Charadrius semipalmatus  18912.809756\n",
       "4         reph    Phalaropus fulicarius  16127.301270\n",
       "5         amgp       Pluvialis dominica  54515.986328\n",
       "6         bbpl     Pluvialis squatarola  64888.017361"
      ]
     },
     "execution_count": 84,
     "metadata": {},
     "output_type": "execute_result"
    }
   ],
   "source": [
    "# let's confirm our output is as expected!\n",
    "egg_data"
   ]
  },
  {
   "cell_type": "markdown",
   "metadata": {},
   "source": [
    "#### Step 4\n",
    "\n",
    "Finally, and still within your loop, you’ll want to compute statistics and print out the results:\n",
    "\n",
    "```\n",
    "cv = round(df.Volume.std()/df.Volume.mean()*100, 2)\n",
    "print(f\"{scientific_name} {cv}%\")\n",
    "```"
   ]
  },
  {
   "cell_type": "code",
   "execution_count": 82,
   "metadata": {},
   "outputs": [
    {
     "name": "stdout",
     "output_type": "stream",
     "text": [
      "Arenaria interpres: 21.12%\n",
      "Calidris alpina: 5.46%\n",
      "Calidris fuscicollis: 16.77%\n",
      "Charadrius semipalmatus: 8.99%\n",
      "Phalaropus fulicarius: 4.65%\n",
      "Pluvialis dominica: 19.88%\n",
      "Pluvialis squatarola: 6.94%\n"
     ]
    }
   ],
   "source": [
    "# Initialize a dictionary to store statistics for each species\n",
    "species_stats = {}\n",
    "\n",
    "for row in conn.execute(species_query).fetchall():  # DuckDB lame-o workaround\n",
    "    species_code = row[0]\n",
    "    scientific_name = row[1]\n",
    "    \n",
    "    # Execute the egg query for the current species\n",
    "    egg_query_for_species = f\"\"\"\n",
    "    SELECT Width * Width * Length AS Volume\n",
    "    FROM Bird_eggs AS BE\n",
    "    JOIN Bird_nests AS BN ON BE.Nest_ID = BN.Nest_ID\n",
    "    WHERE BN.Species = '{species_code}' AND BE.Length IS NOT NULL AND BE.Width IS NOT NULL\n",
    "    \"\"\"\n",
    "    egg_data = conn.execute(egg_query_for_species).fetchdf()\n",
    "    \n",
    "    # Load results into a Pandas DataFrame\n",
    "    egg_df = pd.DataFrame(egg_data)\n",
    "\n",
    "    # Compute statistics\n",
    "    if not egg_df.empty:\n",
    "        mean_volume = egg_df['Volume'].mean()\n",
    "        std_volume = egg_df['Volume'].std()\n",
    "        cv = round(std_volume / mean_volume * 100, 2)\n",
    "    else:\n",
    "        cv = None\n",
    "    \n",
    "    # Store the statistics for the current species\n",
    "    species_stats[scientific_name] = cv\n",
    "\n",
    "# Print out the statistics for each species\n",
    "for species, cv in species_stats.items():\n",
    "    if cv is not None:\n",
    "        print(f\"{species}: {cv}%\")\n"
   ]
  },
  {
   "cell_type": "markdown",
   "metadata": {},
   "source": [
    "Let's close out our session!"
   ]
  },
  {
   "cell_type": "code",
   "execution_count": 93,
   "metadata": {},
   "outputs": [],
   "source": [
    "duckdb.close(conn)"
   ]
  }
 ],
 "metadata": {
  "kernelspec": {
   "display_name": "Python 3.7.13",
   "language": "python",
   "name": "py3.7.13"
  },
  "language_info": {
   "codemirror_mode": {
    "name": "ipython",
    "version": 3
   },
   "file_extension": ".py",
   "mimetype": "text/x-python",
   "name": "python",
   "nbconvert_exporter": "python",
   "pygments_lexer": "ipython3",
   "version": "3.7.13"
  }
 },
 "nbformat": 4,
 "nbformat_minor": 4
}
